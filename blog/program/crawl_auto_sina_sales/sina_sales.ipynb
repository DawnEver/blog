{
 "cells": [
  {
   "cell_type": "markdown",
   "metadata": {},
   "source": [
    "# Crawl sales data\n",
    "## 1.Generate Powershell script "
   ]
  },
  {
   "cell_type": "code",
   "execution_count": 1,
   "metadata": {},
   "outputs": [],
   "source": [
    "# Global Constants\n",
    "import os\n",
    "data_directory='./data_all'\n",
    "\n",
    "csv_path='df_sales_all.csv'\n",
    "\n",
    "if not os.path.exists(data_directory):\n",
    "    os.makedirs(data_directory)"
   ]
  },
  {
   "cell_type": "code",
   "execution_count": 2,
   "metadata": {},
   "outputs": [],
   "source": [
    "# Constants\n",
    "carGuidePrice=\"\" # example \"10-15\" \n",
    "corpType=\"\"\n",
    "energyType=\"\"\n",
    "base=\"https://price.auto.sina.com.cn/api/PaihangbangSales/getSubSalesByParams?size=30\"\n",
    "\n",
    "def generateCommand(year=\"2023\",month=\"01\",page=\"1\"):\n",
    "    url=f'\\\"{base}&page={page}&year={year}&month={month}&carGuidePrice={carGuidePrice}&serialJiBie=&corpType={corpType}&ranliaoXingshi={energyType}&serial_id=&need_detail=1\\\"'\n",
    "\n",
    "    fileName=f'{year}-{month}_{page}.json'\n",
    "    command=f'curl {url} -o {data_directory}/{fileName}'\n",
    "    return command"
   ]
  },
  {
   "cell_type": "code",
   "execution_count": 3,
   "metadata": {},
   "outputs": [],
   "source": [
    "script=f'{data_directory}/getJSON.ps1'\n",
    "with open(script,\"w\") as f:\n",
    "    for year in [\"2020\",\"2021\",\"2022\",\"2023\"]:\n",
    "        for month in [\"01\",\"02\",\"03\",\"04\",\"05\",\"06\",\"07\",\"08\",\"09\",\"10\",\"11\",\"12\"]:\n",
    "            for i in range(1,30):\n",
    "                print(generateCommand(year,month,page=i),file=f)             "
   ]
  },
  {
   "cell_type": "markdown",
   "metadata": {},
   "source": [
    "Regenerate unsuccessful requests commands"
   ]
  },
  {
   "cell_type": "code",
   "execution_count": 4,
   "metadata": {},
   "outputs": [],
   "source": [
    "successJson=os.listdir(data_directory)\n",
    "script=f'{data_directory}/reGetJSON.ps1'\n",
    "with open(script,\"w\") as f:\n",
    "    for year in [\"2020\",\"2021\",\"2022\",\"2023\"]:\n",
    "        for month in [\"01\",\"02\",\"03\",\"04\",\"05\",\"06\",\"07\",\"08\",\"09\",\"10\",\"11\",\"12\"]:\n",
    "            for page in range(1,30):\n",
    "                fileName=f'{year}-{month}_{page}.json'\n",
    "                if not fileName in successJson:\n",
    "                    print(generateCommand(year,month,page=page),file=f)   "
   ]
  },
  {
   "cell_type": "markdown",
   "metadata": {},
   "source": [
    "## 2.Crawl Data"
   ]
  },
  {
   "cell_type": "code",
   "execution_count": 5,
   "metadata": {},
   "outputs": [
    {
     "data": {
      "text/plain": [
       "'./data_all/reGetJSON.ps1'"
      ]
     },
     "execution_count": 5,
     "metadata": {},
     "output_type": "execute_result"
    }
   ],
   "source": [
    "script"
   ]
  },
  {
   "cell_type": "code",
   "execution_count": 6,
   "metadata": {},
   "outputs": [],
   "source": [
    "if 0:# /1 to scrawl\n",
    "    !powershell -ExecutionPolicy Bypass -File $script"
   ]
  },
  {
   "cell_type": "markdown",
   "metadata": {},
   "source": [
    "## 3.Extract Data"
   ]
  },
  {
   "cell_type": "code",
   "execution_count": 7,
   "metadata": {},
   "outputs": [],
   "source": [
    "import json\n",
    "import pandas as pd\n",
    "\n",
    "def extractData(filepath,df):\n",
    "    with open(filepath,'r',encoding=\"utf8\") as file:\n",
    "        file_data=json.load(file)\n",
    "        date = filepath.split('/')[-1].split('.')[0].split('_')[0]\n",
    "\n",
    "        for i in range(len(file_data['data']['list'])):\n",
    "            sub_brand_id=file_data['data']['list'][i]['sub_brand_id']\n",
    "            sales_volume=file_data['data']['list'][i]['sales_volume']\n",
    "            \n",
    "            if  not sub_brand_id in df.index.values:\n",
    "                serialZhName=file_data['data']['list'][i]['serial_info']['serialZhName']\n",
    "                df.loc[sub_brand_id, 'serialZhName']=serialZhName\n",
    "                df.loc[sub_brand_id, 'url']=f'https://db.auto.sina.com.cn/{sub_brand_id}'\n",
    "            df.loc[sub_brand_id, date] = sales_volume\n",
    "                "
   ]
  },
  {
   "cell_type": "code",
   "execution_count": 8,
   "metadata": {},
   "outputs": [],
   "source": [
    "df_sales = pd.DataFrame(index=pd.Index([], name='sub_brand_id'))\n",
    "for filename in os.listdir(data_directory):\n",
    "    if filename.endswith('.json'):\n",
    "        filepath = f'{data_directory}/{filename}'\n",
    "        extractData(filepath,df_sales)"
   ]
  },
  {
   "cell_type": "markdown",
   "metadata": {},
   "source": [
    "## 4.Postprocess\n",
    "- fill null cell with 0"
   ]
  },
  {
   "cell_type": "code",
   "execution_count": 9,
   "metadata": {},
   "outputs": [],
   "source": [
    "df_sales=df_sales.fillna(0)"
   ]
  },
  {
   "cell_type": "code",
   "execution_count": 10,
   "metadata": {},
   "outputs": [],
   "source": [
    "df_sales.to_csv(csv_path)"
   ]
  },
  {
   "cell_type": "markdown",
   "metadata": {},
   "source": [
    "## 5.Plot\n"
   ]
  },
  {
   "cell_type": "code",
   "execution_count": 11,
   "metadata": {},
   "outputs": [
    {
     "data": {
      "image/png": "[encoded data removed]",
      "text/plain": [
       "<Figure size 432x288 with 1 Axes>"
      ]
     },
     "metadata": {
      "needs_background": "light"
     },
     "output_type": "display_data"
    }
   ],
   "source": [
    "import matplotlib.pyplot as plt\n",
    "import matplotlib.ticker as ticker\n",
    "plt.xlabel('timeline')\n",
    "plt.ylabel('sales')\n",
    "\n",
    "skipped_col_indices=['sub_brand_id','serialZhName','url']\n",
    "x=[x for x in df_sales.columns if x not in skipped_col_indices]\n",
    "\n",
    "ax = plt.gca()\n",
    "ax.xaxis.set_major_locator(ticker.MultipleLocator(4)) \n",
    "ax.xaxis.set_major_formatter(ticker.FixedFormatter(x[0::4])) \n",
    "plt.xticks(rotation=45)\n",
    "\n",
    "row_index=61\n",
    "\n",
    "y = df_sales.iloc[row_index, ~df_sales.columns.isin(skipped_col_indices)].values\n",
    "# plt.title(df_sales.loc[row_index, 'serialZhName'])\n",
    "plt.plot(x,y,color='r')\n",
    "plt.show()"
   ]
  }
 ],
 "metadata": {
  "kernelspec": {
   "display_name": "Python 3",
   "language": "python",
   "name": "python3"
  },
  "language_info": {
   "codemirror_mode": {
    "name": "ipython",
    "version": 3
   },
   "file_extension": ".py",
   "mimetype": "text/x-python",
   "name": "python",
   "nbconvert_exporter": "python",
   "pygments_lexer": "ipython3",
   "version": "3.8.3"
  }
 },
 "nbformat": 4,
 "nbformat_minor": 4
}
